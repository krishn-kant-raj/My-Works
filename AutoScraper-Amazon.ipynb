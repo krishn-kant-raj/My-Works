{
 "cells": [
  {
   "cell_type": "markdown",
   "metadata": {},
   "source": [
    "[Source](https://colab.research.google.com/drive/1b2oOz3ZZJAuE1p5F947bs0RCUaBUK7ju?usp=sharing#scrollTo=_KvWZC4FsB0C)"
   ]
  },
  {
   "cell_type": "code",
   "execution_count": 1,
   "metadata": {},
   "outputs": [],
   "source": [
    "# Install the library\n",
    "# !pip install autoscraper\n"
   ]
  },
  {
   "cell_type": "code",
   "execution_count": 2,
   "metadata": {},
   "outputs": [],
   "source": [
    "# import AutoScraper class and Pandas\n",
    "from autoscraper import AutoScraper\n",
    "import pandas as pd"
   ]
  },
  {
   "cell_type": "code",
   "execution_count": 3,
   "metadata": {},
   "outputs": [
    {
     "name": "stdout",
     "output_type": "stream",
     "text": [
      "https://www.amazon.in/s?k=iphone+11+silver&s=price-desc-rank\n"
     ]
    }
   ],
   "source": [
    "# set url and required list to scrap\n",
    "search = \"iphone+11+silver\"\n",
    "url = \"https://www.amazon.in/s?k={}&s=price-desc-rank\".format(search)\n",
    "print(url)"
   ]
  },
  {
   "cell_type": "code",
   "execution_count": 4,
   "metadata": {},
   "outputs": [],
   "source": [
    "# requirment list, what i want to scrap\n",
    "req_list = [\"https://m.media-amazon.com/images/I/71umuN8XVeL._AC_UY218_.jpg\",\"Apple iPhone 11 Pro Max (512GB) - Silver\",\"1,11,900\",\"797\"]"
   ]
  },
  {
   "cell_type": "code",
   "execution_count": 5,
   "metadata": {},
   "outputs": [],
   "source": [
    "# initialize with autoscraper and build with above given details\n",
    "scraper = AutoScraper()\n",
    "result = scraper.build(url,req_list)"
   ]
  },
  {
   "cell_type": "code",
   "execution_count": 6,
   "metadata": {
    "scrolled": false
   },
   "outputs": [
    {
     "name": "stdout",
     "output_type": "stream",
     "text": [
      "{'rule_m58y': ['https://m.media-amazon.com/images/I/71umuN8XVeL._AC_UY218_.jpg', 'https://m.media-amazon.com/images/I/611JavcU70L._AC_UY218_.jpg', 'https://m.media-amazon.com/images/I/61tuQdl2yLL._AC_UY218_.jpg', 'https://m.media-amazon.com/images/I/61ers6OzvUL._AC_UY218_.jpg', 'https://m.media-amazon.com/images/I/61oub4ycmVL._AC_UY218_.jpg', 'https://m.media-amazon.com/images/I/61m6DjujESL._AC_UY218_.jpg', 'https://m.media-amazon.com/images/I/61VK5q8L-oL._AC_UY218_.jpg', 'https://m.media-amazon.com/images/I/61fkdeyq5QL._AC_UY218_.jpg', 'https://m.media-amazon.com/images/I/61itOh+Je8L._AC_UY218_.jpg', 'https://m.media-amazon.com/images/I/61oub4ycmVL._AC_UY218_.jpg', 'https://m.media-amazon.com/images/I/61tuQdl2yLL._AC_UY218_.jpg', 'https://m.media-amazon.com/images/I/61ers6OzvUL._AC_UY218_.jpg', 'https://m.media-amazon.com/images/I/611JavcU70L._AC_UY218_.jpg', 'https://m.media-amazon.com/images/I/61oub4ycmVL._AC_UY218_.jpg', 'https://m.media-amazon.com/images/I/61VK5q8L-oL._AC_UY218_.jpg', 'https://m.media-amazon.com/images/I/61ers6OzvUL._AC_UY218_.jpg'], 'rule_w92k': ['New Apple iPhone 12 Pro Max (128GB) - Silver', 'Apple iPhone 11 Pro Max (512GB) - Gold', 'Apple iPhone 11 Pro Max (512GB) - Space Grey', 'Apple iPhone 11 Pro Max (512GB) - Midnight Green', 'Apple iPhone 11 Pro Max (512GB) - Silver', 'Apple iPhone 11 Pro (512GB) - Space Grey', 'Apple iPhone 11 Pro (512GB) - Silver', 'Apple iPhone 11 Pro (512GB) - Gold', 'Apple iPhone 11 Pro (512GB) - Midnight Green', 'Apple iPhone 11 Pro Max (256GB) - Silver', 'Apple iPhone 11 Pro Max (256GB) - Space Grey', 'Apple iPhone 11 Pro Max (256GB) - Midnight Green', 'Apple iPhone 11 Pro Max (256GB) - Gold', 'Apple iPhone 11 Pro Max (64GB) - Silver', 'Apple iPhone 11 Pro (256GB) - Silver', 'Apple iPhone 11 Pro Max (64GB) - Midnight Green'], 'rule_kd7z': ['New Apple iPhone 12 Pro Max (128GB) - Silver', 'Apple iPhone 11 Pro Max (512GB) - Gold', 'Apple iPhone 11 Pro Max (512GB) - Space Grey', 'Apple iPhone 11 Pro Max (512GB) - Midnight Green', 'Apple iPhone 11 Pro Max (512GB) - Silver', 'Apple iPhone 11 Pro (512GB) - Space Grey', 'Apple iPhone 11 Pro (512GB) - Silver', 'Apple iPhone 11 Pro (512GB) - Gold', 'Apple iPhone 11 Pro (512GB) - Midnight Green', 'Apple iPhone 11 Pro Max (256GB) - Silver', 'Apple iPhone 11 Pro Max (256GB) - Space Grey', 'Apple iPhone 11 Pro Max (256GB) - Midnight Green', 'Apple iPhone 11 Pro Max (256GB) - Gold', 'Apple iPhone 11 Pro Max (64GB) - Silver', 'Apple iPhone 11 Pro (256GB) - Silver', 'Apple iPhone 11 Pro Max (64GB) - Midnight Green'], 'rule_9qo3': ['1,29,900', '1,11,900', '1,11,900', '1,11,900', '1,11,900', '1,05,900', '1,05,900', '1,05,900', '99,900', '94,900', '94,900', '92,900', '92,900', '92,900', '86,900', '84,900'], 'rule_n53o': ['1,29,900', '1,11,900', '1,11,900', '1,11,900', '1,11,900', '1,05,900', '1,05,900', '1,05,900', '99,900', '94,900', '94,900', '92,900', '92,900', '92,900', '86,900', '84,900'], 'rule_ia0h': ['1,29,900', '1,11,900', '1,11,900', '1,11,900', '1,11,900', '1,05,900', '1,05,900', '1,05,900', '99,900', '94,900', '94,900', '92,900', '92,900', '92,900', '86,900', '84,900'], 'rule_3dc1': ['1,29,900', '1,11,900', '1,11,900', '1,11,900', '1,11,900', '1,05,900', '1,05,900', '1,05,900', '99,900', '94,900', '94,900', '92,900', '92,900', '92,900', '86,900', '84,900'], 'rule_k2rn': ['554', '797', '797', '797', '797', '921', '921', '921', '921', '797', '797', '797', '797', '797', '921', '797'], 'rule_8ksu': ['554', '797', '797', '797', '797', '921', '921', '921', '921', '797', '797', '797', '797', '797', '921', '797'], 'rule_8oy1': ['554', '797', '797', '797', '797', '921', '921', '921', '921', '797', '797', '797', '797', '797', '921', '797'], 'rule_mlon': ['554', '797', '797', '797', '797', '921', '921', '921', '921', '797', '797', '797', '797', '797', '921', '797'], 'rule_6yr9': ['554', '797', '797', '797', '797', '921', '921', '921', '921', '797', '797', '797', '797', '797', '921', '797'], 'rule_adhc': ['554', '797', '797', '797', '797', '921', '921', '921', '921', '797', '797', '797', '797', '797', '921', '797'], 'rule_pw37': ['554', '797', '797', '797', '797', '921', '921', '921', '921', '797', '797', '797', '797', '797', '921', '797'], 'rule_c29i': ['554', '797', '797', '797', '797', '921', '921', '921', '921', '797', '797', '797', '797', '797', '921', '797'], 'rule_2tox': ['554', '797', '797', '797', '797', '921', '921', '921', '921', '797', '797', '797', '797', '797', '921', '797'], 'rule_2un7': ['554', '797', '797', '797', '797', '921', '921', '921', '921', '797', '797', '797', '797', '797', '921', '797']}\n"
     ]
    }
   ],
   "source": [
    "data = scraper.get_result_similar(url,grouped=True)\n",
    "print(data)"
   ]
  },
  {
   "cell_type": "code",
   "execution_count": 7,
   "metadata": {
    "scrolled": true
   },
   "outputs": [
    {
     "name": "stdout",
     "output_type": "stream",
     "text": [
      "['rule_m58y', 'rule_w92k', 'rule_kd7z', 'rule_9qo3', 'rule_n53o', 'rule_ia0h', 'rule_3dc1', 'rule_k2rn', 'rule_8ksu', 'rule_8oy1', 'rule_mlon', 'rule_6yr9', 'rule_adhc', 'rule_pw37', 'rule_c29i', 'rule_2tox', 'rule_2un7']\n"
     ]
    }
   ],
   "source": [
    "# Automate keys\n",
    "keys = list(data.keys())\n",
    "print(keys)"
   ]
  },
  {
   "cell_type": "code",
   "execution_count": 8,
   "metadata": {},
   "outputs": [],
   "source": [
    "# Some time you have to change the key index to get the appropriate result\n",
    "scraper.set_rule_aliases({str(keys[0]):'ImageUrl',str(keys[1]):'Title',str(keys[3]):'Price',str(keys[-1]):'Reviews'})"
   ]
  },
  {
   "cell_type": "code",
   "execution_count": 9,
   "metadata": {},
   "outputs": [],
   "source": [
    "scraper.save(\"amazon_in.json\")"
   ]
  },
  {
   "cell_type": "code",
   "execution_count": 10,
   "metadata": {},
   "outputs": [],
   "source": [
    "amazon_scraper = AutoScraper()\n",
    "amazon_scraper.load('amazon_in.json')"
   ]
  },
  {
   "cell_type": "code",
   "execution_count": 11,
   "metadata": {},
   "outputs": [],
   "source": [
    "search = \"samsung phones\"\n",
    "amazon_url=\"https://www.amazon.in/s?k={}&s=price-desc-rank\".format(search)\n",
    "\n",
    "data = amazon_scraper.get_result_similar(amazon_url, group_by_alias=True)\n",
    "search_data = tuple(zip(data['Title'],data['ImageUrl'],data['Price'],data['Reviews']))"
   ]
  },
  {
   "cell_type": "code",
   "execution_count": 12,
   "metadata": {},
   "outputs": [],
   "source": [
    "df = pd.DataFrame(columns=['Query','Title','Price','Reviews','ImageUrl'])\n",
    "for i in range(len(search_data)):\n",
    "    df.loc[len(df)] = [search,search_data[i][0],search_data[i][2],search_data[i][3],search_data[i][1]]"
   ]
  },
  {
   "cell_type": "code",
   "execution_count": 13,
   "metadata": {
    "scrolled": true
   },
   "outputs": [
    {
     "name": "stdout",
     "output_type": "stream",
     "text": [
      "(15, 5)\n"
     ]
    },
    {
     "data": {
      "text/html": [
       "<div>\n",
       "<style scoped>\n",
       "    .dataframe tbody tr th:only-of-type {\n",
       "        vertical-align: middle;\n",
       "    }\n",
       "\n",
       "    .dataframe tbody tr th {\n",
       "        vertical-align: top;\n",
       "    }\n",
       "\n",
       "    .dataframe thead th {\n",
       "        text-align: right;\n",
       "    }\n",
       "</style>\n",
       "<table border=\"1\" class=\"dataframe\">\n",
       "  <thead>\n",
       "    <tr style=\"text-align: right;\">\n",
       "      <th></th>\n",
       "      <th>Query</th>\n",
       "      <th>Title</th>\n",
       "      <th>Price</th>\n",
       "      <th>Reviews</th>\n",
       "      <th>ImageUrl</th>\n",
       "    </tr>\n",
       "  </thead>\n",
       "  <tbody>\n",
       "    <tr>\n",
       "      <th>0</th>\n",
       "      <td>samsung phones</td>\n",
       "      <td>Samsung Galaxy Z Fold2 5G (Mystic Black, 12GB ...</td>\n",
       "      <td>1,49,998</td>\n",
       "      <td>75</td>\n",
       "      <td>https://m.media-amazon.com/images/I/71IHjrw1wV...</td>\n",
       "    </tr>\n",
       "    <tr>\n",
       "      <th>1</th>\n",
       "      <td>samsung phones</td>\n",
       "      <td>Samsung Galaxy Z Fold2 5G Mystic Bronze, 12GB ...</td>\n",
       "      <td>1,49,998</td>\n",
       "      <td>75</td>\n",
       "      <td>https://m.media-amazon.com/images/I/71U9nzW+Xs...</td>\n",
       "    </tr>\n",
       "    <tr>\n",
       "      <th>2</th>\n",
       "      <td>samsung phones</td>\n",
       "      <td>Samsung Galaxy Fold (Black, 12GB RAM, 512GB St...</td>\n",
       "      <td>1,14,990</td>\n",
       "      <td>15</td>\n",
       "      <td>https://m.media-amazon.com/images/I/71LhAERRPa...</td>\n",
       "    </tr>\n",
       "    <tr>\n",
       "      <th>3</th>\n",
       "      <td>samsung phones</td>\n",
       "      <td>Samsung Galaxy S21 Ultra 5G (Phantom Silver, 1...</td>\n",
       "      <td>1,05,999</td>\n",
       "      <td>411</td>\n",
       "      <td>https://m.media-amazon.com/images/I/91dLTREdG1...</td>\n",
       "    </tr>\n",
       "    <tr>\n",
       "      <th>4</th>\n",
       "      <td>samsung phones</td>\n",
       "      <td>Samsung Galaxy S21 Ultra 5G (Phantom Black, 12...</td>\n",
       "      <td>1,05,999</td>\n",
       "      <td>411</td>\n",
       "      <td>https://m.media-amazon.com/images/I/917nPCOw9-...</td>\n",
       "    </tr>\n",
       "    <tr>\n",
       "      <th>5</th>\n",
       "      <td>samsung phones</td>\n",
       "      <td>Samsung Galaxy Note 20 Ultra 5G (Mystic Black,...</td>\n",
       "      <td>1,04,999</td>\n",
       "      <td>337</td>\n",
       "      <td>https://m.media-amazon.com/images/I/81frwlzRG5...</td>\n",
       "    </tr>\n",
       "    <tr>\n",
       "      <th>6</th>\n",
       "      <td>samsung phones</td>\n",
       "      <td>Samsung Galaxy Note 20 Ultra 5G (Mystic Bronze...</td>\n",
       "      <td>1,02,999</td>\n",
       "      <td>337</td>\n",
       "      <td>https://m.media-amazon.com/images/I/81afQk-7Aj...</td>\n",
       "    </tr>\n",
       "    <tr>\n",
       "      <th>7</th>\n",
       "      <td>samsung phones</td>\n",
       "      <td>(Renewed) Samsung Galaxy S21 Ultra(Phantom Bla...</td>\n",
       "      <td>99,499</td>\n",
       "      <td>1</td>\n",
       "      <td>https://m.media-amazon.com/images/I/61wES5z2Qe...</td>\n",
       "    </tr>\n",
       "    <tr>\n",
       "      <th>8</th>\n",
       "      <td>samsung phones</td>\n",
       "      <td>(Renewed) Samsung Galaxy S21 Ultra 5G (Phantom...</td>\n",
       "      <td>99,499</td>\n",
       "      <td>11</td>\n",
       "      <td>https://m.media-amazon.com/images/I/61ck-OpLBl...</td>\n",
       "    </tr>\n",
       "    <tr>\n",
       "      <th>9</th>\n",
       "      <td>samsung phones</td>\n",
       "      <td>(Renewed) Samsung Galaxy Note 20 Ultra 5G (Mys...</td>\n",
       "      <td>97,999</td>\n",
       "      <td>24</td>\n",
       "      <td>https://m.media-amazon.com/images/I/51uGZJytm8...</td>\n",
       "    </tr>\n",
       "    <tr>\n",
       "      <th>10</th>\n",
       "      <td>samsung phones</td>\n",
       "      <td>Samsung Galaxy S20 Ultra (Cloud White, 12GB RA...</td>\n",
       "      <td>84,999</td>\n",
       "      <td>71</td>\n",
       "      <td>https://m.media-amazon.com/images/I/710PrlbpGA...</td>\n",
       "    </tr>\n",
       "    <tr>\n",
       "      <th>11</th>\n",
       "      <td>samsung phones</td>\n",
       "      <td>Samsung Galaxy Z Flip (Gold, 8GB RAM, 256GB St...</td>\n",
       "      <td>84,999</td>\n",
       "      <td>71</td>\n",
       "      <td>https://m.media-amazon.com/images/I/61e3gEDsIb...</td>\n",
       "    </tr>\n",
       "    <tr>\n",
       "      <th>12</th>\n",
       "      <td>samsung phones</td>\n",
       "      <td>Samsung Galaxy Z Flip (Black, 8GB RAM, 256GB S...</td>\n",
       "      <td>83,999</td>\n",
       "      <td>134</td>\n",
       "      <td>https://m.media-amazon.com/images/I/71SyO27jEj...</td>\n",
       "    </tr>\n",
       "    <tr>\n",
       "      <th>13</th>\n",
       "      <td>samsung phones</td>\n",
       "      <td>Samsung Galaxy S21 Plus(Phantom Violet, 8GB RA...</td>\n",
       "      <td>82,298</td>\n",
       "      <td>134</td>\n",
       "      <td>https://m.media-amazon.com/images/I/91f+vkhKfn...</td>\n",
       "    </tr>\n",
       "    <tr>\n",
       "      <th>14</th>\n",
       "      <td>samsung phones</td>\n",
       "      <td>Samsung Galaxy S21 Plus 5G (Phantom Black, 8GB...</td>\n",
       "      <td>81,999</td>\n",
       "      <td>241</td>\n",
       "      <td>https://m.media-amazon.com/images/I/81SnT-NCKE...</td>\n",
       "    </tr>\n",
       "  </tbody>\n",
       "</table>\n",
       "</div>"
      ],
      "text/plain": [
       "             Query                                              Title  \\\n",
       "0   samsung phones  Samsung Galaxy Z Fold2 5G (Mystic Black, 12GB ...   \n",
       "1   samsung phones  Samsung Galaxy Z Fold2 5G Mystic Bronze, 12GB ...   \n",
       "2   samsung phones  Samsung Galaxy Fold (Black, 12GB RAM, 512GB St...   \n",
       "3   samsung phones  Samsung Galaxy S21 Ultra 5G (Phantom Silver, 1...   \n",
       "4   samsung phones  Samsung Galaxy S21 Ultra 5G (Phantom Black, 12...   \n",
       "5   samsung phones  Samsung Galaxy Note 20 Ultra 5G (Mystic Black,...   \n",
       "6   samsung phones  Samsung Galaxy Note 20 Ultra 5G (Mystic Bronze...   \n",
       "7   samsung phones  (Renewed) Samsung Galaxy S21 Ultra(Phantom Bla...   \n",
       "8   samsung phones  (Renewed) Samsung Galaxy S21 Ultra 5G (Phantom...   \n",
       "9   samsung phones  (Renewed) Samsung Galaxy Note 20 Ultra 5G (Mys...   \n",
       "10  samsung phones  Samsung Galaxy S20 Ultra (Cloud White, 12GB RA...   \n",
       "11  samsung phones  Samsung Galaxy Z Flip (Gold, 8GB RAM, 256GB St...   \n",
       "12  samsung phones  Samsung Galaxy Z Flip (Black, 8GB RAM, 256GB S...   \n",
       "13  samsung phones  Samsung Galaxy S21 Plus(Phantom Violet, 8GB RA...   \n",
       "14  samsung phones  Samsung Galaxy S21 Plus 5G (Phantom Black, 8GB...   \n",
       "\n",
       "       Price Reviews                                           ImageUrl  \n",
       "0   1,49,998      75  https://m.media-amazon.com/images/I/71IHjrw1wV...  \n",
       "1   1,49,998      75  https://m.media-amazon.com/images/I/71U9nzW+Xs...  \n",
       "2   1,14,990      15  https://m.media-amazon.com/images/I/71LhAERRPa...  \n",
       "3   1,05,999     411  https://m.media-amazon.com/images/I/91dLTREdG1...  \n",
       "4   1,05,999     411  https://m.media-amazon.com/images/I/917nPCOw9-...  \n",
       "5   1,04,999     337  https://m.media-amazon.com/images/I/81frwlzRG5...  \n",
       "6   1,02,999     337  https://m.media-amazon.com/images/I/81afQk-7Aj...  \n",
       "7     99,499       1  https://m.media-amazon.com/images/I/61wES5z2Qe...  \n",
       "8     99,499      11  https://m.media-amazon.com/images/I/61ck-OpLBl...  \n",
       "9     97,999      24  https://m.media-amazon.com/images/I/51uGZJytm8...  \n",
       "10    84,999      71  https://m.media-amazon.com/images/I/710PrlbpGA...  \n",
       "11    84,999      71  https://m.media-amazon.com/images/I/61e3gEDsIb...  \n",
       "12    83,999     134  https://m.media-amazon.com/images/I/71SyO27jEj...  \n",
       "13    82,298     134  https://m.media-amazon.com/images/I/91f+vkhKfn...  \n",
       "14    81,999     241  https://m.media-amazon.com/images/I/81SnT-NCKE...  "
      ]
     },
     "execution_count": 13,
     "metadata": {},
     "output_type": "execute_result"
    }
   ],
   "source": [
    "print(df.shape)\n",
    "df"
   ]
  },
  {
   "cell_type": "code",
   "execution_count": 14,
   "metadata": {},
   "outputs": [
    {
     "data": {
      "text/plain": [
       "['https://m.media-amazon.com/images/I/71umuN8XVeL._AC_UY218_.jpg',\n",
       " 'https://m.media-amazon.com/images/I/611JavcU70L._AC_UY218_.jpg',\n",
       " 'https://m.media-amazon.com/images/I/61tuQdl2yLL._AC_UY218_.jpg',\n",
       " 'https://m.media-amazon.com/images/I/61ers6OzvUL._AC_UY218_.jpg',\n",
       " 'https://m.media-amazon.com/images/I/61oub4ycmVL._AC_UY218_.jpg',\n",
       " 'https://m.media-amazon.com/images/I/61m6DjujESL._AC_UY218_.jpg',\n",
       " 'https://m.media-amazon.com/images/I/61VK5q8L-oL._AC_UY218_.jpg',\n",
       " 'https://m.media-amazon.com/images/I/61fkdeyq5QL._AC_UY218_.jpg',\n",
       " 'https://m.media-amazon.com/images/I/61itOh+Je8L._AC_UY218_.jpg',\n",
       " 'New Apple iPhone 12 Pro Max (128GB) - Silver',\n",
       " 'Apple iPhone 11 Pro Max (512GB) - Gold',\n",
       " 'Apple iPhone 11 Pro Max (512GB) - Space Grey',\n",
       " 'Apple iPhone 11 Pro Max (512GB) - Midnight Green',\n",
       " 'Apple iPhone 11 Pro Max (512GB) - Silver',\n",
       " 'Apple iPhone 11 Pro (512GB) - Space Grey',\n",
       " 'Apple iPhone 11 Pro (512GB) - Silver',\n",
       " 'Apple iPhone 11 Pro (512GB) - Gold',\n",
       " 'Apple iPhone 11 Pro (512GB) - Midnight Green',\n",
       " 'Apple iPhone 11 Pro Max (256GB) - Silver',\n",
       " 'Apple iPhone 11 Pro Max (256GB) - Space Grey',\n",
       " 'Apple iPhone 11 Pro Max (256GB) - Midnight Green',\n",
       " 'Apple iPhone 11 Pro Max (256GB) - Gold',\n",
       " 'Apple iPhone 11 Pro Max (64GB) - Silver',\n",
       " 'Apple iPhone 11 Pro (256GB) - Silver',\n",
       " 'Apple iPhone 11 Pro Max (64GB) - Midnight Green',\n",
       " '1,29,900',\n",
       " '1,11,900',\n",
       " '1,05,900',\n",
       " '99,900',\n",
       " '94,900',\n",
       " '92,900',\n",
       " '86,900',\n",
       " '84,900',\n",
       " '554',\n",
       " '797',\n",
       " '921']"
      ]
     },
     "execution_count": 14,
     "metadata": {},
     "output_type": "execute_result"
    }
   ],
   "source": [
    "# see the result\n",
    "result"
   ]
  },
  {
   "cell_type": "code",
   "execution_count": 15,
   "metadata": {},
   "outputs": [],
   "source": [
    "# grouped the similar result\n",
    "grouped_result = scraper.get_result_similar(url,grouped=True)"
   ]
  },
  {
   "cell_type": "code",
   "execution_count": 16,
   "metadata": {},
   "outputs": [
    {
     "data": {
      "text/plain": [
       "{'rule_m58y': ['https://m.media-amazon.com/images/I/71umuN8XVeL._AC_UY218_.jpg',\n",
       "  'https://m.media-amazon.com/images/I/611JavcU70L._AC_UY218_.jpg',\n",
       "  'https://m.media-amazon.com/images/I/61tuQdl2yLL._AC_UY218_.jpg',\n",
       "  'https://m.media-amazon.com/images/I/61ers6OzvUL._AC_UY218_.jpg',\n",
       "  'https://m.media-amazon.com/images/I/61oub4ycmVL._AC_UY218_.jpg',\n",
       "  'https://m.media-amazon.com/images/I/61m6DjujESL._AC_UY218_.jpg',\n",
       "  'https://m.media-amazon.com/images/I/61VK5q8L-oL._AC_UY218_.jpg',\n",
       "  'https://m.media-amazon.com/images/I/61fkdeyq5QL._AC_UY218_.jpg',\n",
       "  'https://m.media-amazon.com/images/I/61itOh+Je8L._AC_UY218_.jpg',\n",
       "  'https://m.media-amazon.com/images/I/61oub4ycmVL._AC_UY218_.jpg',\n",
       "  'https://m.media-amazon.com/images/I/61tuQdl2yLL._AC_UY218_.jpg',\n",
       "  'https://m.media-amazon.com/images/I/61ers6OzvUL._AC_UY218_.jpg',\n",
       "  'https://m.media-amazon.com/images/I/611JavcU70L._AC_UY218_.jpg',\n",
       "  'https://m.media-amazon.com/images/I/61oub4ycmVL._AC_UY218_.jpg',\n",
       "  'https://m.media-amazon.com/images/I/61VK5q8L-oL._AC_UY218_.jpg',\n",
       "  'https://m.media-amazon.com/images/I/61ers6OzvUL._AC_UY218_.jpg'],\n",
       " 'rule_w92k': ['New Apple iPhone 12 Pro Max (128GB) - Silver',\n",
       "  'Apple iPhone 11 Pro Max (512GB) - Gold',\n",
       "  'Apple iPhone 11 Pro Max (512GB) - Space Grey',\n",
       "  'Apple iPhone 11 Pro Max (512GB) - Midnight Green',\n",
       "  'Apple iPhone 11 Pro Max (512GB) - Silver',\n",
       "  'Apple iPhone 11 Pro (512GB) - Space Grey',\n",
       "  'Apple iPhone 11 Pro (512GB) - Silver',\n",
       "  'Apple iPhone 11 Pro (512GB) - Gold',\n",
       "  'Apple iPhone 11 Pro (512GB) - Midnight Green',\n",
       "  'Apple iPhone 11 Pro Max (256GB) - Silver',\n",
       "  'Apple iPhone 11 Pro Max (256GB) - Space Grey',\n",
       "  'Apple iPhone 11 Pro Max (256GB) - Midnight Green',\n",
       "  'Apple iPhone 11 Pro Max (256GB) - Gold',\n",
       "  'Apple iPhone 11 Pro Max (64GB) - Silver',\n",
       "  'Apple iPhone 11 Pro (256GB) - Silver',\n",
       "  'Apple iPhone 11 Pro Max (64GB) - Midnight Green'],\n",
       " 'rule_kd7z': ['New Apple iPhone 12 Pro Max (128GB) - Silver',\n",
       "  'Apple iPhone 11 Pro Max (512GB) - Gold',\n",
       "  'Apple iPhone 11 Pro Max (512GB) - Space Grey',\n",
       "  'Apple iPhone 11 Pro Max (512GB) - Midnight Green',\n",
       "  'Apple iPhone 11 Pro Max (512GB) - Silver',\n",
       "  'Apple iPhone 11 Pro (512GB) - Space Grey',\n",
       "  'Apple iPhone 11 Pro (512GB) - Silver',\n",
       "  'Apple iPhone 11 Pro (512GB) - Gold',\n",
       "  'Apple iPhone 11 Pro (512GB) - Midnight Green',\n",
       "  'Apple iPhone 11 Pro Max (256GB) - Silver',\n",
       "  'Apple iPhone 11 Pro Max (256GB) - Space Grey',\n",
       "  'Apple iPhone 11 Pro Max (256GB) - Midnight Green',\n",
       "  'Apple iPhone 11 Pro Max (256GB) - Gold',\n",
       "  'Apple iPhone 11 Pro Max (64GB) - Silver',\n",
       "  'Apple iPhone 11 Pro (256GB) - Silver',\n",
       "  'Apple iPhone 11 Pro Max (64GB) - Midnight Green'],\n",
       " 'rule_9qo3': ['1,29,900',\n",
       "  '1,11,900',\n",
       "  '1,11,900',\n",
       "  '1,11,900',\n",
       "  '1,11,900',\n",
       "  '1,05,900',\n",
       "  '1,05,900',\n",
       "  '1,05,900',\n",
       "  '99,900',\n",
       "  '94,900',\n",
       "  '94,900',\n",
       "  '92,900',\n",
       "  '92,900',\n",
       "  '92,900',\n",
       "  '86,900',\n",
       "  '84,900'],\n",
       " 'rule_n53o': ['1,29,900',\n",
       "  '1,11,900',\n",
       "  '1,11,900',\n",
       "  '1,11,900',\n",
       "  '1,11,900',\n",
       "  '1,05,900',\n",
       "  '1,05,900',\n",
       "  '1,05,900',\n",
       "  '99,900',\n",
       "  '94,900',\n",
       "  '94,900',\n",
       "  '92,900',\n",
       "  '92,900',\n",
       "  '92,900',\n",
       "  '86,900',\n",
       "  '84,900'],\n",
       " 'rule_ia0h': ['1,29,900',\n",
       "  '1,11,900',\n",
       "  '1,11,900',\n",
       "  '1,11,900',\n",
       "  '1,11,900',\n",
       "  '1,05,900',\n",
       "  '1,05,900',\n",
       "  '1,05,900',\n",
       "  '99,900',\n",
       "  '94,900',\n",
       "  '94,900',\n",
       "  '92,900',\n",
       "  '92,900',\n",
       "  '92,900',\n",
       "  '86,900',\n",
       "  '84,900'],\n",
       " 'rule_3dc1': ['1,29,900',\n",
       "  '1,11,900',\n",
       "  '1,11,900',\n",
       "  '1,11,900',\n",
       "  '1,11,900',\n",
       "  '1,05,900',\n",
       "  '1,05,900',\n",
       "  '1,05,900',\n",
       "  '99,900',\n",
       "  '94,900',\n",
       "  '94,900',\n",
       "  '92,900',\n",
       "  '92,900',\n",
       "  '92,900',\n",
       "  '86,900',\n",
       "  '84,900'],\n",
       " 'rule_k2rn': ['554',\n",
       "  '797',\n",
       "  '797',\n",
       "  '797',\n",
       "  '797',\n",
       "  '921',\n",
       "  '921',\n",
       "  '921',\n",
       "  '921',\n",
       "  '797',\n",
       "  '797',\n",
       "  '797',\n",
       "  '797',\n",
       "  '797',\n",
       "  '921',\n",
       "  '797'],\n",
       " 'rule_8ksu': ['554',\n",
       "  '797',\n",
       "  '797',\n",
       "  '797',\n",
       "  '797',\n",
       "  '921',\n",
       "  '921',\n",
       "  '921',\n",
       "  '921',\n",
       "  '797',\n",
       "  '797',\n",
       "  '797',\n",
       "  '797',\n",
       "  '797',\n",
       "  '921',\n",
       "  '797'],\n",
       " 'rule_8oy1': ['554',\n",
       "  '797',\n",
       "  '797',\n",
       "  '797',\n",
       "  '797',\n",
       "  '921',\n",
       "  '921',\n",
       "  '921',\n",
       "  '921',\n",
       "  '797',\n",
       "  '797',\n",
       "  '797',\n",
       "  '797',\n",
       "  '797',\n",
       "  '921',\n",
       "  '797'],\n",
       " 'rule_mlon': ['554',\n",
       "  '797',\n",
       "  '797',\n",
       "  '797',\n",
       "  '797',\n",
       "  '921',\n",
       "  '921',\n",
       "  '921',\n",
       "  '921',\n",
       "  '797',\n",
       "  '797',\n",
       "  '797',\n",
       "  '797',\n",
       "  '797',\n",
       "  '921',\n",
       "  '797'],\n",
       " 'rule_6yr9': ['554',\n",
       "  '797',\n",
       "  '797',\n",
       "  '797',\n",
       "  '797',\n",
       "  '921',\n",
       "  '921',\n",
       "  '921',\n",
       "  '921',\n",
       "  '797',\n",
       "  '797',\n",
       "  '797',\n",
       "  '797',\n",
       "  '797',\n",
       "  '921',\n",
       "  '797'],\n",
       " 'rule_adhc': ['554',\n",
       "  '797',\n",
       "  '797',\n",
       "  '797',\n",
       "  '797',\n",
       "  '921',\n",
       "  '921',\n",
       "  '921',\n",
       "  '921',\n",
       "  '797',\n",
       "  '797',\n",
       "  '797',\n",
       "  '797',\n",
       "  '797',\n",
       "  '921',\n",
       "  '797'],\n",
       " 'rule_pw37': ['554',\n",
       "  '797',\n",
       "  '797',\n",
       "  '797',\n",
       "  '797',\n",
       "  '921',\n",
       "  '921',\n",
       "  '921',\n",
       "  '921',\n",
       "  '797',\n",
       "  '797',\n",
       "  '797',\n",
       "  '797',\n",
       "  '797',\n",
       "  '921',\n",
       "  '797'],\n",
       " 'rule_c29i': ['554',\n",
       "  '797',\n",
       "  '797',\n",
       "  '797',\n",
       "  '797',\n",
       "  '921',\n",
       "  '921',\n",
       "  '921',\n",
       "  '921',\n",
       "  '797',\n",
       "  '797',\n",
       "  '797',\n",
       "  '797',\n",
       "  '797',\n",
       "  '921',\n",
       "  '797'],\n",
       " 'rule_2tox': ['554',\n",
       "  '797',\n",
       "  '797',\n",
       "  '797',\n",
       "  '797',\n",
       "  '921',\n",
       "  '921',\n",
       "  '921',\n",
       "  '921',\n",
       "  '797',\n",
       "  '797',\n",
       "  '797',\n",
       "  '797',\n",
       "  '797',\n",
       "  '921',\n",
       "  '797'],\n",
       " 'rule_2un7': ['554',\n",
       "  '797',\n",
       "  '797',\n",
       "  '797',\n",
       "  '797',\n",
       "  '921',\n",
       "  '921',\n",
       "  '921',\n",
       "  '921',\n",
       "  '797',\n",
       "  '797',\n",
       "  '797',\n",
       "  '797',\n",
       "  '797',\n",
       "  '921',\n",
       "  '797']}"
      ]
     },
     "execution_count": 16,
     "metadata": {},
     "output_type": "execute_result"
    }
   ],
   "source": [
    "grouped_result"
   ]
  },
  {
   "cell_type": "code",
   "execution_count": 18,
   "metadata": {},
   "outputs": [],
   "source": [
    "## Manualy copy paste keys\n",
    "\n",
    "# set the rule for future uses to get similar result\n",
    "# use dictionary with key as rules and value as grouped name\n",
    "# keep and save the rules\n",
    "scraper.set_rule_aliases({'rule_m58y':'ImgLink','rule_w92k':'Title','rule_9qo3':'Price','rule_k2rn':'Review'})\n",
    "scraper.keep_rules(['rule_m58y','rule_w92k','rule_9qo3','rule_k2rn'])\n",
    "scraper.save('amazon-search')"
   ]
  },
  {
   "cell_type": "markdown",
   "metadata": {},
   "source": [
    "# Wireless Headphones"
   ]
  },
  {
   "cell_type": "code",
   "execution_count": 19,
   "metadata": {},
   "outputs": [],
   "source": [
    "# use different url to get the similar result on different keywords search\n",
    "result = scraper.get_result_similar('https://www.amazon.in/s?k=headphones+wireless',group_by_alias=True)"
   ]
  },
  {
   "cell_type": "code",
   "execution_count": 20,
   "metadata": {},
   "outputs": [
    {
     "data": {
      "text/plain": [
       "['boAt Rockerz 450 Bluetooth On-Ear Headphone with Mic(Luscious Black)',\n",
       " 'pTron Tangent Lite Bluetooth 5.0 Wireless Headphones with Hi-Fi Stereo Sound, 6Hrs Playtime, Lightweight Ergonomic Neckband, Sweat-Resistant Magnetic Earbuds, Voice Assistant & Mic - (Black)',\n",
       " 'Zebronics Zeb-Thunder Wireless BT Headphone Comes with 40mm Drivers, AUX Connectivity, Built in FM, Call Function, 9Hrs* Playback time and Supports Micro SD Card (Red)',\n",
       " 'pTron Studio Over-Ear Bluetooth 5.0 Wireless Headphones, Hi-Fi Sound with Deep Bass, 12Hrs Playback, Ergonomic & Lightweight Wireless Headset, Soft Cushions Earpads, Aux Port & Mic - (Black)',\n",
       " 'boAt Rockerz 255 Sports in-Ear Bluetooth Neckband Earphone with Mic (Active Black)',\n",
       " 'pTron Bassbuds Plus True Wireless Bluetooth 5.0 Headphones with Deep Bass, Made in India, IPX4 Water/Sweat Resistant, Passive Noise Canceling Earbuds, Digital Display Case & Built-in HD Mic - (Black)',\n",
       " 'Heypex SH-12 Wireless Portable Bluetooth V4.2 Over The Ear Headphone Comes with SD/FM/AUX & Inbuilt Mic for All Devices (Black)',\n",
       " 'boAt Rockerz 370 Wireless Headphone with Bluetooth 5.0, Immersive Audio, Lightweight Ergonomic Design, Cosy Padded Earcups and Up to 12H Playback Bliss (Buoyant Black)',\n",
       " 'boAt Rockerz 550 Over-Ear Wireless Headphone with Ergonomic Aesthetics, Plush Padded Earcups, Immersive Audio, Bluetooth v5.0 & Upto 20H Playback (Black)',\n",
       " 'pTron Bassfest Plus Magnetic in-Ear Bluetooth 5.0 Wireless Headphones, Stereo Sound with Bass, IPX4 Water & Sweat Resistant, Voice Assistance, Ergonomic & Lightweight, Built-in Mic - (Black & Blue)',\n",
       " 'pTron Bassbuds in-Ear True Wireless Bluetooth 5.0 Headphones with Hi-Fi Deep Bass, 20Hrs Playtime with Case, Ergonomic Sweatproof Earbuds, Noise Isolation, Voice Assistance & Built-in Mic - (Black)',\n",
       " 'pTron Bassfest Plus Magnetic in-Ear Bluetooth 5.0 Wireless Headphones, Stereo Sound with Bass, IPX4 Water & Sweat Resistant, Voice Assistance, Ergonomic & Lightweight, Built-in Mic - (Black & Grey)',\n",
       " 'pTron Studio Over-Ear Bluetooth 5.0 Wireless Headphones, Hi-Fi Sound with Deep Bass, 12Hrs Playback, Ergonomic & Lightweight Wireless Headset, Soft Cushions Earpads, Aux Port & Mic - (Blue)',\n",
       " 'pTron Tangentbeat Bluetooth 5.0 Wireless Headphones with Deep Bass, Ergonomic Design, IPX4 Sweat/Waterproof Neckband, Magnetic Earbuds, Voice Assistant, Passive Noise Cancelation & Mic - (Black)',\n",
       " 'boAt Rockerz 370 Wireless Headphone with Bluetooth 5.0, Immersive Audio, Lightweight Ergonomic Design, Cosy Padded Earcups and Up to 12H Playback Bliss(Gregarious Green)']"
      ]
     },
     "execution_count": 20,
     "metadata": {},
     "output_type": "execute_result"
    }
   ],
   "source": [
    "# see the scraped Title list\n",
    "result['Title']"
   ]
  },
  {
   "cell_type": "code",
   "execution_count": 21,
   "metadata": {},
   "outputs": [
    {
     "data": {
      "text/plain": [
       "['1,499',\n",
       " '599',\n",
       " '749',\n",
       " '799',\n",
       " '1,299',\n",
       " '899',\n",
       " '529',\n",
       " '1,399',\n",
       " '1,999',\n",
       " '599',\n",
       " '899',\n",
       " '599',\n",
       " '799',\n",
       " '799',\n",
       " '1,399']"
      ]
     },
     "execution_count": 21,
     "metadata": {},
     "output_type": "execute_result"
    }
   ],
   "source": [
    "# list of prices\n",
    "result['Price']"
   ]
  },
  {
   "cell_type": "code",
   "execution_count": 22,
   "metadata": {},
   "outputs": [
    {
     "name": "stdout",
     "output_type": "stream",
     "text": [
      "boAt Rockerz 450 Bluetooth On-Ear Headphone with Mic(Luscious Black)\n",
      "pTron Tangent Lite Bluetooth 5.0 Wireless Headphones with Hi-Fi Stereo Sound, 6Hrs Playtime, Lightweight Ergonomic Neckband, Sweat-Resistant Magnetic Earbuds, Voice Assistant & Mic - (Black)\n",
      "Zebronics Zeb-Thunder Wireless BT Headphone Comes with 40mm Drivers, AUX Connectivity, Built in FM, Call Function, 9Hrs* Playback time and Supports Micro SD Card (Red)\n",
      "pTron Studio Over-Ear Bluetooth 5.0 Wireless Headphones, Hi-Fi Sound with Deep Bass, 12Hrs Playback, Ergonomic & Lightweight Wireless Headset, Soft Cushions Earpads, Aux Port & Mic - (Black)\n",
      "boAt Rockerz 255 Sports in-Ear Bluetooth Neckband Earphone with Mic (Active Black)\n",
      "pTron Bassbuds Plus True Wireless Bluetooth 5.0 Headphones with Deep Bass, Made in India, IPX4 Water/Sweat Resistant, Passive Noise Canceling Earbuds, Digital Display Case & Built-in HD Mic - (Black)\n",
      "Heypex SH-12 Wireless Portable Bluetooth V4.2 Over The Ear Headphone Comes with SD/FM/AUX & Inbuilt Mic for All Devices (Black)\n",
      "boAt Rockerz 370 Wireless Headphone with Bluetooth 5.0, Immersive Audio, Lightweight Ergonomic Design, Cosy Padded Earcups and Up to 12H Playback Bliss (Buoyant Black)\n",
      "boAt Rockerz 550 Over-Ear Wireless Headphone with Ergonomic Aesthetics, Plush Padded Earcups, Immersive Audio, Bluetooth v5.0 & Upto 20H Playback (Black)\n",
      "pTron Bassfest Plus Magnetic in-Ear Bluetooth 5.0 Wireless Headphones, Stereo Sound with Bass, IPX4 Water & Sweat Resistant, Voice Assistance, Ergonomic & Lightweight, Built-in Mic - (Black & Blue)\n",
      "pTron Bassbuds in-Ear True Wireless Bluetooth 5.0 Headphones with Hi-Fi Deep Bass, 20Hrs Playtime with Case, Ergonomic Sweatproof Earbuds, Noise Isolation, Voice Assistance & Built-in Mic - (Black)\n",
      "pTron Bassfest Plus Magnetic in-Ear Bluetooth 5.0 Wireless Headphones, Stereo Sound with Bass, IPX4 Water & Sweat Resistant, Voice Assistance, Ergonomic & Lightweight, Built-in Mic - (Black & Grey)\n",
      "pTron Studio Over-Ear Bluetooth 5.0 Wireless Headphones, Hi-Fi Sound with Deep Bass, 12Hrs Playback, Ergonomic & Lightweight Wireless Headset, Soft Cushions Earpads, Aux Port & Mic - (Blue)\n",
      "pTron Tangentbeat Bluetooth 5.0 Wireless Headphones with Deep Bass, Ergonomic Design, IPX4 Sweat/Waterproof Neckband, Magnetic Earbuds, Voice Assistant, Passive Noise Cancelation & Mic - (Black)\n",
      "boAt Rockerz 370 Wireless Headphone with Bluetooth 5.0, Immersive Audio, Lightweight Ergonomic Design, Cosy Padded Earcups and Up to 12H Playback Bliss(Gregarious Green)\n",
      "Title Count= 15\n"
     ]
    }
   ],
   "source": [
    "ttl_count = 0\n",
    "for title in result['Title']:\n",
    "    ttl_count +=1\n",
    "    print(title)\n",
    "print('Title Count=',ttl_count)"
   ]
  },
  {
   "cell_type": "code",
   "execution_count": 23,
   "metadata": {},
   "outputs": [
    {
     "name": "stdout",
     "output_type": "stream",
     "text": [
      "1,499\n",
      "599\n",
      "749\n",
      "799\n",
      "1,299\n",
      "899\n",
      "529\n",
      "1,399\n",
      "1,999\n",
      "599\n",
      "899\n",
      "599\n",
      "799\n",
      "799\n",
      "1,399\n",
      "Product Price Count= 15\n"
     ]
    }
   ],
   "source": [
    "prd_count = 0\n",
    "for price in result['Price']:\n",
    "    prd_count+=1\n",
    "    print(price)\n",
    "print('Product Price Count=',prd_count)"
   ]
  },
  {
   "cell_type": "code",
   "execution_count": 24,
   "metadata": {},
   "outputs": [
    {
     "name": "stdout",
     "output_type": "stream",
     "text": [
      "23,443\n",
      "28,220\n",
      "16,518\n",
      "2,910\n",
      "218,760\n",
      "3,192\n",
      "2\n",
      "4,033\n",
      "8,655\n",
      "1,628\n",
      "42,599\n",
      "2,955\n",
      "2,910\n",
      "10,415\n",
      "4,033\n",
      "Review Count= 15\n"
     ]
    }
   ],
   "source": [
    "prd_count = 0\n",
    "for types in result['Review']:\n",
    "    prd_count+=1\n",
    "    print(types)\n",
    "print('Review Count=',prd_count)"
   ]
  },
  {
   "cell_type": "markdown",
   "metadata": {},
   "source": [
    "# iphones"
   ]
  },
  {
   "cell_type": "code",
   "execution_count": 25,
   "metadata": {},
   "outputs": [],
   "source": [
    "result = scraper.get_result_similar('https://www.amazon.in/s?k=iphones&ref=nb_sb_noss_2',group_by_alias=True)"
   ]
  },
  {
   "cell_type": "code",
   "execution_count": 26,
   "metadata": {
    "scrolled": true
   },
   "outputs": [
    {
     "name": "stdout",
     "output_type": "stream",
     "text": [
      "New Apple iPhone 11 (128GB) - Black\n",
      "New Apple iPhone 12 Pro Max (128GB) - Pacific Blue\n",
      "New Apple iPhone 12 (128GB) - Blue\n",
      "New Apple iPhone 12 Pro Max (256GB) - Graphite\n",
      "New Apple iPhone 12 Mini (64GB) - Black\n",
      "New Apple iPhone 11 (64GB) - Green\n",
      "New Apple iPhone 11 (128GB) - White\n",
      "New Apple iPhone 11 (128GB) - Green\n",
      "New Apple iPhone 11 (128GB) - (Product) RED\n",
      "Apple iPhone 11 Pro Max (256GB) - Midnight Green\n",
      "New Apple iPhone 12 Mini (128GB) - Green\n",
      "New Apple iPhone 12 (128GB) - White\n",
      "New Apple iPhone 12 Mini (64GB) - Blue\n",
      "New Apple iPhone 12 (64GB) - Black\n",
      "New Apple iPhone 12 (64GB) - Blue\n",
      "Product Title Count= 15\n"
     ]
    }
   ],
   "source": [
    "ttl_count = 0\n",
    "for title in result['Title']:\n",
    "    ttl_count +=1\n",
    "    print(title)\n",
    "print('Product Title Count=',ttl_count)"
   ]
  },
  {
   "cell_type": "code",
   "execution_count": 27,
   "metadata": {},
   "outputs": [
    {
     "name": "stdout",
     "output_type": "stream",
     "text": [
      "59,900\n",
      "1,29,900\n",
      "80,900\n",
      "1,35,900\n",
      "61,900\n",
      "54,900\n",
      "59,900\n",
      "59,900\n",
      "59,900\n",
      "92,900\n",
      "65,900\n",
      "80,900\n",
      "61,900\n",
      "75,900\n",
      "75,900\n",
      "Product Price Count= 15\n"
     ]
    }
   ],
   "source": [
    "prd_count = 0\n",
    "for price in result['Price']:\n",
    "    prd_count+=1\n",
    "    print(price)\n",
    "print('Product Price Count=',prd_count)"
   ]
  },
  {
   "cell_type": "code",
   "execution_count": 28,
   "metadata": {},
   "outputs": [
    {
     "name": "stdout",
     "output_type": "stream",
     "text": [
      "25,639\n",
      "554\n",
      "2,036\n",
      "554\n",
      "3,266\n",
      "25,639\n",
      "25,639\n",
      "25,639\n",
      "25,639\n",
      "797\n",
      "3,266\n",
      "2,036\n",
      "3,266\n",
      "2,036\n",
      "2,036\n",
      "Product Review Count= 15\n"
     ]
    }
   ],
   "source": [
    "prd_count = 0\n",
    "for types in result['Review']:\n",
    "    prd_count+=1\n",
    "    print(types)\n",
    "print('Product Review Count=',prd_count)"
   ]
  }
 ],
 "metadata": {
  "kernelspec": {
   "display_name": "Python 3",
   "language": "python",
   "name": "python3"
  },
  "language_info": {
   "codemirror_mode": {
    "name": "ipython",
    "version": 3
   },
   "file_extension": ".py",
   "mimetype": "text/x-python",
   "name": "python",
   "nbconvert_exporter": "python",
   "pygments_lexer": "ipython3",
   "version": "3.7.3"
  }
 },
 "nbformat": 4,
 "nbformat_minor": 2
}
