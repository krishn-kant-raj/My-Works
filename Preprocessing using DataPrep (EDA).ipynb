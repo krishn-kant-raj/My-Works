{
 "cells": [
  {
   "cell_type": "markdown",
   "metadata": {},
   "source": [
    "# DataPrep\n",
    "**DataPrep.eda using Dask works with larger than memory datasets. Dask supports out-of-core and parallel processing so computations on very large datasets can be evaluated efficiently.**\n",
    "\n",
    "\n",
    "[Dataset](https://docs.dataprep.ai/user_guide/datasets/introduction.html#Datasets) \n",
    "\n",
    "> DataPrep provides a collections of datasets. You could easily load them using one line of code and explore the functionalities of dataprep on them.\n",
    "\n",
    "[Load Dataset](https://docs.dataprep.ai/user_guide/datasets/introduction.html#Load-Dataset) \n",
    "\n",
    "> After you know the available dataset names from get_dataset_names. Next you could load the dataset by calling load_dataset.\n",
    "\n",
    "[Analyze Dataset](https://docs.dataprep.ai/user_guide/datasets/introduction.html#Analyze-Dataset)\n",
    "\n",
    "> After you get the dataset, you could try to use dataprep to explore the dataset. For example, you may want to create a profiling report of the dataset using dataprep.eda.\n",
    "\n",
    "[EDA (Exploratory Data Analysis)](https://docs.dataprep.ai/user_guide/eda/introduction.html#EDA)\n",
    "\n",
    "> Section Contents\n",
    "- plot(): analyze distributions\n",
    "- plot_correlation(): analyze correlations\n",
    "- plot_missing(): analyze missing values\n",
    "- create_report(): create a profile report\n",
    "- How-to guide: customize your output\n",
    "- Parameter configurations: parameter summarysettings\n",
    "- Case study: Titanic\n",
    "- Case study: House Prices\n",
    "\n",
    "[Clean ](https://docs.dataprep.ai/user_guide/clean/introduction.html#Clean)\n",
    "\n",
    "DataPrep.Clean provides functions for quickly and easily cleaning and validating your data.\n",
    "\n",
    "> Section Contents\n",
    "- Column Headers\n",
    "- Country Names\n",
    "- Email Addresses\n",
    "- Geographic Goordinates\n",
    "- IP Addresses\n",
    "- Phone Numbers\n",
    "- URLs\n",
    "- US Street Addresses\n",
    "\n",
    "# Problems\n",
    "**error: Microsoft Visual C++ 14.0 or greater is required**. Get it with \"Microsoft C++ Build Tools\": [Download](https://visualstudio.microsoft.com/visual-cpp-build-tools/) It require about 30 mb of Data\n",
    "\n",
    "[Microsoft Blog to install Microsoft C++ Build Tools](https://docs.microsoft.com/en-us/answers/questions/136595/error-microsoft-visual-c-140-or-greater-is-require.html) It requre about 1.59 GB data."
   ]
  },
  {
   "cell_type": "code",
   "execution_count": null,
   "metadata": {},
   "outputs": [],
   "source": [
    "!pip install -U dataprep"
   ]
  },
  {
   "cell_type": "markdown",
   "metadata": {},
   "source": [
    "[DataPrep Website](https://dataprep.ai/)\n",
    "\n",
    "[Installation Detail on pupi.org](https://pypi.org/project/dataprep/)"
   ]
  },
  {
   "cell_type": "code",
   "execution_count": null,
   "metadata": {},
   "outputs": [],
   "source": [
    "# EDA (Exploratory Data Analysis)\n",
    "# Create Profile Reports, Fast\n",
    "from dataprep.datasets import load_dataset\n",
    "from dataprep.eda import create_report\n",
    "import warnings\n",
    "warnings.filterwarnings('ignore')\n",
    "df = load_dataset('titanic')\n",
    "create_report(df)"
   ]
  },
  {
   "cell_type": "code",
   "execution_count": null,
   "metadata": {},
   "outputs": [],
   "source": [
    "create_report(df).show_browser()"
   ]
  },
  {
   "cell_type": "code",
   "execution_count": null,
   "metadata": {},
   "outputs": [],
   "source": [
    "# https://analyticsindiamag.com/tutorial-for-dataprep-a-python-library-to-prepare-your-data-before-training/\n",
    "# importing the plot function which is used to visualize \n",
    "# the statistical plots and properties of the dataset\n",
    "\n",
    "import plotly.express as px\n",
    "from dataprep.eda import plot"
   ]
  },
  {
   "cell_type": "markdown",
   "metadata": {},
   "source": [
    "[Get more details about **Tips Dataset** ](https://www.kaggle.com/sanjanabasu/tips-dataset/data)"
   ]
  },
  {
   "cell_type": "code",
   "execution_count": null,
   "metadata": {},
   "outputs": [],
   "source": [
    "# Loading the Dataset\n",
    "# The dataset contains certain attributes related to \n",
    "# hotel bills and tips.\n",
    "df = px.data.tips() \n",
    "df"
   ]
  },
  {
   "cell_type": "code",
   "execution_count": null,
   "metadata": {},
   "outputs": [],
   "source": [
    "# Exploratory Data Analysis\n",
    "# We will start with statistical data exploration and analysis. \n",
    "# The plot function is used for preparing this statistical report. This single line of code will create the whole statistical analysis. \n",
    "plot(df)"
   ]
  },
  {
   "cell_type": "code",
   "execution_count": null,
   "metadata": {},
   "outputs": [],
   "source": [
    "from dataprep.eda.missing import plot_missing\n",
    "plot_missing(df)"
   ]
  },
  {
   "cell_type": "code",
   "execution_count": null,
   "metadata": {},
   "outputs": [],
   "source": [
    "from dataprep.eda import plot_correlation\n",
    "plot_correlation(df)"
   ]
  }
 ],
 "metadata": {
  "kernelspec": {
   "display_name": "Python 3",
   "language": "python",
   "name": "python3"
  },
  "language_info": {
   "codemirror_mode": {
    "name": "ipython",
    "version": 3
   },
   "file_extension": ".py",
   "mimetype": "text/x-python",
   "name": "python",
   "nbconvert_exporter": "python",
   "pygments_lexer": "ipython3",
   "version": "3.7.3"
  }
 },
 "nbformat": 4,
 "nbformat_minor": 2
}
